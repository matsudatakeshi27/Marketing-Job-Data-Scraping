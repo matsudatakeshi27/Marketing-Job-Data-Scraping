{
 "cells": [
  {
   "cell_type": "code",
   "execution_count": 1,
   "id": "8bf0bcd2",
   "metadata": {},
   "outputs": [],
   "source": [
    "import pandas as pd\n",
    "from sklearn.feature_extraction.text import TfidfVectorizer\n",
    "from sklearn.model_selection import train_test_split\n",
    "from sklearn.svm import SVC\n",
    "from sklearn.metrics import accuracy_score"
   ]
  },
  {
   "cell_type": "code",
   "execution_count": 2,
   "id": "1ae46bb5",
   "metadata": {},
   "outputs": [],
   "source": [
    "df_train = pd.read_csv('../Marketing Research Project/training_data.csv')"
   ]
  },
  {
   "cell_type": "code",
   "execution_count": 3,
   "id": "99e83bca",
   "metadata": {
    "scrolled": true
   },
   "outputs": [
    {
     "data": {
      "text/plain": [
       "SVC(kernel='linear')"
      ]
     },
     "execution_count": 3,
     "metadata": {},
     "output_type": "execute_result"
    }
   ],
   "source": [
    "# Feature extraction - Convert skills into numerical features using TF-IDF\n",
    "tfidf_vectorizer = TfidfVectorizer()\n",
    "X_train = tfidf_vectorizer.fit_transform(df_train['skill_name'])\n",
    "\n",
    "# Target labels\n",
    "y_train = df_train['skill_group']\n",
    "\n",
    "# Train a Support Vector Machine (SVM) classifier\n",
    "classifier = SVC(kernel='linear')\n",
    "classifier.fit(X_train, y_train)"
   ]
  },
  {
   "cell_type": "code",
   "execution_count": 4,
   "id": "5b0c3b95",
   "metadata": {},
   "outputs": [
    {
     "name": "stdout",
     "output_type": "stream",
     "text": [
      "Skill: Networking --> Category: Communication\n",
      "Skill: Financial Analysis --> Category: Quantitative/Analytical\n",
      "Skill: Mobile App Development --> Category: Technology\n",
      "Skill: Marketing Strategy --> Category: Strategy/Planning/Management\n",
      "Skill: Data Visualization --> Category: Quantitative/Analytical\n",
      "Skill: Creative Writing --> Category: Content/Writing\n",
      "Skill: Project Planning --> Category: Strategy/Planning/Management\n",
      "Skill: Digital Marketing --> Category: Graphic Design/Visual\n",
      "Skill: Data Science --> Category: Technology\n"
     ]
    }
   ],
   "source": [
    "# Test: Categorize new skills\n",
    "new_skills = [\n",
    "    'Networking', 'Financial Analysis', 'Mobile App Development', 'Marketing Strategy',\n",
    "    'Data Visualization', 'Creative Writing', 'Project Planning', 'Digital Marketing', 'Data Science'\n",
    "]\n",
    "X_new_skills = tfidf_vectorizer.transform(new_skills)\n",
    "predicted_categories = classifier.predict(X_new_skills)\n",
    "\n",
    "for skill, category in zip(new_skills, predicted_categories):\n",
    "    print(f\"Skill: {skill} --> Category: {category}\")"
   ]
  },
  {
   "cell_type": "code",
   "execution_count": 5,
   "id": "f701788e",
   "metadata": {
    "scrolled": true
   },
   "outputs": [
    {
     "name": "stdout",
     "output_type": "stream",
     "text": [
      "Accuracy: 0.62\n"
     ]
    }
   ],
   "source": [
    "# Apply on our data\n",
    "df = pd.read_csv('../Marketing Research Project/marketing_skill_linkedin.csv')\n",
    "\n",
    "new_skills = df['skill_name']\n",
    "\n",
    "X1 = tfidf_vectorizer.transform(new_skills)\n",
    "Y1 = df['skill_group']\n",
    "\n",
    "predicted_categories = classifier.predict(X1)\n",
    "accuracy = accuracy_score(Y1, predicted_categories)\n",
    "print(f\"Accuracy: {accuracy:.2f}\")"
   ]
  },
  {
   "cell_type": "code",
   "execution_count": 6,
   "id": "b7c1554c",
   "metadata": {},
   "outputs": [],
   "source": [
    "# df['pred'] = predicted_categories\n",
    "# df.to_csv('test.csv', index=False)"
   ]
  },
  {
   "cell_type": "code",
   "execution_count": null,
   "id": "cfff4514",
   "metadata": {},
   "outputs": [],
   "source": []
  }
 ],
 "metadata": {
  "kernelspec": {
   "display_name": "Python 3 (ipykernel)",
   "language": "python",
   "name": "python3"
  },
  "language_info": {
   "codemirror_mode": {
    "name": "ipython",
    "version": 3
   },
   "file_extension": ".py",
   "mimetype": "text/x-python",
   "name": "python",
   "nbconvert_exporter": "python",
   "pygments_lexer": "ipython3",
   "version": "3.8.3"
  }
 },
 "nbformat": 4,
 "nbformat_minor": 5
}
