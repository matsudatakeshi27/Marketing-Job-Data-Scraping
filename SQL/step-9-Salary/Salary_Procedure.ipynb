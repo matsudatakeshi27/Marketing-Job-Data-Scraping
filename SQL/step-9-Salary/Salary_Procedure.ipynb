{
 "cells": [
  {
   "cell_type": "code",
   "execution_count": 35,
   "id": "b151316b",
   "metadata": {},
   "outputs": [],
   "source": [
    "import mysql.connector\n",
    "import pandas as pd\n",
    "import re"
   ]
  },
  {
   "cell_type": "code",
   "execution_count": 3,
   "id": "d6056b57",
   "metadata": {},
   "outputs": [],
   "source": [
    "# Replace these with your actual credentials\n",
    "db_config = {\n",
    "    'user': 'root',\n",
    "    'password': '',\n",
    "    'host': 'localhost',\n",
    "    'database': 'job_scraping',\n",
    "}\n",
    "\n",
    "# Establish a connection to the MySQL database\n",
    "connection = mysql.connector.connect(**db_config)\n"
   ]
  },
  {
   "cell_type": "code",
   "execution_count": 49,
   "id": "51cb54db",
   "metadata": {},
   "outputs": [],
   "source": [
    "query = 'SELECT JobId, Salary FROM marketing_jobs_linkedin where Salary <> \"\";'\n",
    "\n",
    "cursor = connection.cursor()\n",
    "cursor.execute(query)\n",
    "result = cursor.fetchall()\n",
    "\n",
    "df = pd.DataFrame(result, columns = cursor.column_names)"
   ]
  },
  {
   "cell_type": "code",
   "execution_count": 50,
   "id": "a33abfdf",
   "metadata": {},
   "outputs": [],
   "source": [
    "salary = df[\"Salary\"].str.replace(\",\", \"\").str.split(\" - \")"
   ]
  },
  {
   "cell_type": "code",
   "execution_count": 51,
   "id": "588f2e50",
   "metadata": {},
   "outputs": [],
   "source": [
    "# Loop through each sublist in the data\n",
    "for sublist_index in range(len(salary)):\n",
    "    for element_index in range(len(salary[sublist_index])):\n",
    "        # Replace \"/yr\" with \"\"\n",
    "        salary[sublist_index][element_index] = salary[sublist_index][element_index].replace(\"/yr\", \"\")\n",
    "        # Replace \"/hr\" with \"\"\n",
    "        salary[sublist_index][element_index] = salary[sublist_index][element_index].replace(\"/hr\", \"\")\n",
    "        # Replace \"/month\" with \"\"\n",
    "        salary[sublist_index][element_index] = salary[sublist_index][element_index].replace(\"/month\", \"\")\n",
    "        # Replace \"$\" with \"\"\n",
    "        salary[sublist_index][element_index] = salary[sublist_index][element_index].replace(\"$\", \"\")\n"
   ]
  },
  {
   "cell_type": "code",
   "execution_count": 18,
   "id": "7ecc0e46",
   "metadata": {},
   "outputs": [],
   "source": [
    "salary_df = pd.DataFrame()\n",
    "salary_df[\"id\"] = df[\"JobId\"]"
   ]
  },
  {
   "cell_type": "code",
   "execution_count": 19,
   "id": "de208cff",
   "metadata": {},
   "outputs": [],
   "source": [
    "salary_type = []\n",
    "for i in df[\"Salary\"]:\n",
    "    if \"hr\" in i:\n",
    "        salary_type.append(\"hr\")\n",
    "    elif \"month\" in i:\n",
    "        salary_type.append(\"month\")\n",
    "    else:\n",
    "        salary_type.append(\"yr\")\n",
    "        \n",
    "salary_df[\"salary_type\"] = salary_type"
   ]
  },
  {
   "cell_type": "code",
   "execution_count": 47,
   "id": "14abebd3",
   "metadata": {},
   "outputs": [],
   "source": [
    "min_salary = []\n",
    "max_salary = []\n",
    "for job in salary:\n",
    "    if len(job) == 1:\n",
    "        min_salary.append(float(job[0]))\n",
    "        max_salary.append(float(job[0]))\n",
    "    else:\n",
    "        min_salary.append(float(job[0]))\n",
    "        max_salary.append(float(job[1]))\n",
    "\n",
    "salary_df[\"min\"] = min_salary\n",
    "salary_df[\"max\"] = max_salary"
   ]
  },
  {
   "cell_type": "code",
   "execution_count": 65,
   "id": "ee6865ba",
   "metadata": {},
   "outputs": [],
   "source": [
    "# Remove duplicates based on the \"id\" column\n",
    "salary_df.drop_duplicates(subset=[\"id\"], keep=\"first\", inplace=True)\n"
   ]
  },
  {
   "cell_type": "code",
   "execution_count": 66,
   "id": "8979228d",
   "metadata": {},
   "outputs": [],
   "source": [
    "# cursor.execute('''\n",
    "#                 CREATE TABLE salary (\n",
    "#                     id varchar(100) primary key not null,\n",
    "#                     salary_type varchar(10),\n",
    "#                     min_salary decimal(10, 2),\n",
    "#                     max_salary decimal(10, 2)\n",
    "#                 )\n",
    "# ''')"
   ]
  },
  {
   "cell_type": "code",
   "execution_count": 70,
   "id": "e3a93ff4",
   "metadata": {},
   "outputs": [],
   "source": [
    "insert_query = \"INSERT IGNORE INTO salary (id, salary_type, min_salary, max_salary) VALUES (%s, %s, %s, %s)\"\n",
    "\n",
    "# Iterate over each row in the DataFrame and insert the values into the table\n",
    "for _, row in salary_df.iterrows():\n",
    "    values = (\n",
    "        row[\"id\"],\n",
    "        row[\"salary_type\"],\n",
    "        row[\"min\"],\n",
    "        row[\"max\"]\n",
    "    )\n",
    "    cursor.execute(insert_query, values)\n",
    "\n",
    "# Commit the changes to the database\n",
    "# connection.commit()\n",
    "\n",
    "# # Close the cursor and database connection\n",
    "# cursor.close()\n",
    "# mydb.close()"
   ]
  },
  {
   "cell_type": "code",
   "execution_count": null,
   "id": "955acd8a",
   "metadata": {},
   "outputs": [],
   "source": []
  }
 ],
 "metadata": {
  "kernelspec": {
   "display_name": "Python 3 (ipykernel)",
   "language": "python",
   "name": "python3"
  },
  "language_info": {
   "codemirror_mode": {
    "name": "ipython",
    "version": 3
   },
   "file_extension": ".py",
   "mimetype": "text/x-python",
   "name": "python",
   "nbconvert_exporter": "python",
   "pygments_lexer": "ipython3",
   "version": "3.9.12"
  }
 },
 "nbformat": 4,
 "nbformat_minor": 5
}
