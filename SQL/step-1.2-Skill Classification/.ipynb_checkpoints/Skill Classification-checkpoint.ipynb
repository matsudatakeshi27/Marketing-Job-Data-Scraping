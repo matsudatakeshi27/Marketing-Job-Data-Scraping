{
 "cells": [
  {
   "cell_type": "code",
   "execution_count": 1,
   "id": "8bf0bcd2",
   "metadata": {},
   "outputs": [],
   "source": [
    "import pandas as pd\n",
    "from sklearn.feature_extraction.text import TfidfVectorizer\n",
    "from sklearn.model_selection import train_test_split\n",
    "from sklearn.svm import SVC\n",
    "from sklearn.metrics import accuracy_score"
   ]
  },
  {
   "cell_type": "code",
   "execution_count": 2,
   "id": "a492639b",
   "metadata": {},
   "outputs": [],
   "source": [
    "df_train = pd.read_csv('../Marketing Research Project/Skill Classification/training_data.csv')"
   ]
  },
  {
   "cell_type": "code",
   "execution_count": 3,
   "id": "924dc73f",
   "metadata": {
    "scrolled": true
   },
   "outputs": [
    {
     "data": {
      "text/plain": [
       "SVC(kernel='linear')"
      ]
     },
     "execution_count": 3,
     "metadata": {},
     "output_type": "execute_result"
    }
   ],
   "source": [
    "# Feature extraction - Convert skills into numerical features using TF-IDF\n",
    "tfidf_vectorizer = TfidfVectorizer()\n",
    "X_train = tfidf_vectorizer.fit_transform(df_train['skill_name'])\n",
    "\n",
    "# Target labels\n",
    "y_train = df_train['skill_group']\n",
    "\n",
    "# Train a Support Vector Machine (SVM) classifier\n",
    "classifier = SVC(kernel='linear')\n",
    "classifier.fit(X_train, y_train)"
   ]
  },
  {
   "cell_type": "code",
   "execution_count": 4,
   "id": "1b239c9a",
   "metadata": {},
   "outputs": [
    {
     "name": "stdout",
     "output_type": "stream",
     "text": [
      "Skill: Networking --> Category: Communication\n",
      "Skill: Financial Analysis --> Category: Quantitative/Analytical\n",
      "Skill: Mobile App Development --> Category: Technology\n",
      "Skill: Marketing Strategy --> Category: Strategy/Planning/Management\n",
      "Skill: Data Visualization --> Category: Quantitative/Analytical\n",
      "Skill: Creative Writing --> Category: Content/Writing\n",
      "Skill: Project Planning --> Category: Strategy/Planning/Management\n",
      "Skill: Digital Marketing --> Category: Graphic Design/Visual\n",
      "Skill: Data Science --> Category: Technology\n"
     ]
    }
   ],
   "source": [
    "# Test: Categorize new skills\n",
    "new_skills = [\n",
    "    'Networking', 'Financial Analysis', 'Mobile App Development', 'Marketing Strategy',\n",
    "    'Data Visualization', 'Creative Writing', 'Project Planning', 'Digital Marketing', 'Data Science'\n",
    "]\n",
    "X_new_skills = tfidf_vectorizer.transform(new_skills)\n",
    "predicted_categories = classifier.predict(X_new_skills)\n",
    "\n",
    "for skill, category in zip(new_skills, predicted_categories):\n",
    "    print(f\"Skill: {skill} --> Category: {category}\")"
   ]
  },
  {
   "cell_type": "code",
   "execution_count": 1,
   "id": "f701788e",
   "metadata": {
    "scrolled": true
   },
   "outputs": [
    {
     "ename": "NameError",
     "evalue": "name 'pd' is not defined",
     "output_type": "error",
     "traceback": [
      "\u001b[1;31m---------------------------------------------------------------------------\u001b[0m",
      "\u001b[1;31mNameError\u001b[0m                                 Traceback (most recent call last)",
      "Input \u001b[1;32mIn [1]\u001b[0m, in \u001b[0;36m<module>\u001b[1;34m\u001b[0m\n\u001b[0;32m      1\u001b[0m \u001b[38;5;66;03m# Apply on our data\u001b[39;00m\n\u001b[1;32m----> 2\u001b[0m df \u001b[38;5;241m=\u001b[39m \u001b[43mpd\u001b[49m\u001b[38;5;241m.\u001b[39mread_csv(\u001b[38;5;124m'\u001b[39m\u001b[38;5;124m../Marketing Research Project/Skill Classification/marketing_skill_linkedin.csv\u001b[39m\u001b[38;5;124m'\u001b[39m)\n\u001b[0;32m      4\u001b[0m new_skills \u001b[38;5;241m=\u001b[39m df[\u001b[38;5;124m'\u001b[39m\u001b[38;5;124mskill_name\u001b[39m\u001b[38;5;124m'\u001b[39m]\n\u001b[0;32m      6\u001b[0m X1 \u001b[38;5;241m=\u001b[39m tfidf_vectorizer\u001b[38;5;241m.\u001b[39mtransform(new_skills)\n",
      "\u001b[1;31mNameError\u001b[0m: name 'pd' is not defined"
     ]
    }
   ],
   "source": [
    "# Apply on our data\n",
    "df = pd.read_csv('../Marketing Research Project/Skill Classification/marketing_skill_linkedin.csv')\n",
    "\n",
    "new_skills = df['skill_name']\n",
    "\n",
    "X1 = tfidf_vectorizer.transform(new_skills)\n",
    "\n",
    "predicted_categories = classifier.predict(X1)\n",
    "df['pred'] = predicted_categories\n",
    "df.to_csv('marketing_skill_linkedin.csv', index=False)"
   ]
  }
 ],
 "metadata": {
  "kernelspec": {
   "display_name": "Python 3 (ipykernel)",
   "language": "python",
   "name": "python3"
  },
  "language_info": {
   "codemirror_mode": {
    "name": "ipython",
    "version": 3
   },
   "file_extension": ".py",
   "mimetype": "text/x-python",
   "name": "python",
   "nbconvert_exporter": "python",
   "pygments_lexer": "ipython3",
   "version": "3.8.3"
  }
 },
 "nbformat": 4,
 "nbformat_minor": 5
}
